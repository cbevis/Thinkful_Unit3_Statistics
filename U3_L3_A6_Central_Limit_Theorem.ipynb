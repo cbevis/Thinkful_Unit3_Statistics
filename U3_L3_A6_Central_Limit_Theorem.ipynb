{
 "cells": [
  {
   "cell_type": "code",
   "execution_count": 1,
   "metadata": {},
   "outputs": [],
   "source": [
    "import numpy as np\n",
    "from scipy.stats import ttest_ind\n",
    "import matplotlib.pyplot as plt\n",
    "%matplotlib inline"
   ]
  },
  {
   "cell_type": "code",
   "execution_count": 2,
   "metadata": {},
   "outputs": [
    {
     "data": {
      "image/png": "[encoded data removed]",
      "text/plain": [
       "<Figure size 432x288 with 1 Axes>"
      ]
     },
     "metadata": {
      "needs_background": "light"
     },
     "output_type": "display_data"
    }
   ],
   "source": [
    "pop1 = np.random.binomial(10, 0.2, 10000)\n",
    "pop2 = np.random.binomial(10, 0.5, 10000)\n",
    "\n",
    "bins=list(range(0,11))\n",
    "bin_ticks = list(map(lambda x: x + 0.5, bins))\n",
    "# Make histograms of two groups\n",
    "\n",
    "plt.hist(pop1, alpha=0.5, label='Population 1', bins=bins, linewidth=1, edgecolor='black')\n",
    "plt.hist(pop2, alpha=0.5, label='Population 2', bins=bins, linewidth=1, edgecolor='black')\n",
    "plt.xticks(bin_ticks, bins)\n",
    "plt.xlabel('Number of Successes')\n",
    "\n",
    "\n",
    "plt.legend(loc='upper right')\n",
    "plt.show()"
   ]
  },
  {
   "cell_type": "code",
   "execution_count": 3,
   "metadata": {},
   "outputs": [
    {
     "data": {
      "image/png": "[encoded data removed]",
      "text/plain": [
       "<Figure size 432x288 with 1 Axes>"
      ]
     },
     "metadata": {
      "needs_background": "light"
     },
     "output_type": "display_data"
    },
    {
     "name": "stdout",
     "output_type": "stream",
     "text": [
      "<class 'numpy.ndarray'>\n"
     ]
    }
   ],
   "source": [
    "# Take a sample of 100 from each population and plot\n",
    "\n",
    "sample1 = np.random.choice(pop1, 100, replace=True)\n",
    "sample2 = np.random.choice(pop2, 100, replace=True)\n",
    "\n",
    "plt.hist(sample1, alpha=0.5, label='Population 1', bins=bins, linewidth=1, edgecolor='black')\n",
    "plt.hist(sample2, alpha=0.5, label='Population 2', bins=bins, linewidth=1, edgecolor='black')\n",
    "#plt.xticks(bin_ticks, bins)\n",
    "plt.xlabel('Number of Successes')\n",
    "\n",
    "\n",
    "plt.legend(loc='upper right')\n",
    "plt.show()\n",
    "\n",
    "print(type(sample1))"
   ]
  },
  {
   "cell_type": "code",
   "execution_count": 4,
   "metadata": {},
   "outputs": [
    {
     "name": "stdout",
     "output_type": "stream",
     "text": [
      "Sample 1 mean is 1.89\n",
      "Sample 2 mean is 5.13\n",
      "Sample 1 STD is 1.27\n",
      "Sample 2 STD is 1.58\n",
      "The difference between means is 3.24.\n"
     ]
    }
   ],
   "source": [
    "# Compute means and std for each group\n",
    "\n",
    "print('Sample 1 mean is {}'.format(sample1.mean()))\n",
    "print('Sample 2 mean is {}'.format(sample2.mean()))\n",
    "print('Sample 1 STD is {:.02f}'.format(sample1.std()))\n",
    "print('Sample 2 STD is {:.02f}'.format(sample2.std()))\n",
    "\n",
    "# Cojmpute the difference between the two sample means.\n",
    "diff=sample2.mean() - sample1.mean()\n",
    "print('The difference between means is {}.'.format(diff))"
   ]
  },
  {
   "cell_type": "code",
   "execution_count": 5,
   "metadata": {},
   "outputs": [
    {
     "name": "stdout",
     "output_type": "stream",
     "text": [
      "Standard error is 0.20.\n"
     ]
    }
   ],
   "source": [
    "# Initializeing arrays to calculate standard error\n",
    "size = np.array([len(sample1), len(sample2)])\n",
    "sd = np.array([sample1.std(), sample2.std()])\n",
    "\n",
    "# The squared standard deviations are divided by the sample size\n",
    "# and summed, then we take the square root of the sum\n",
    "diff_se = (sum(sd **2 / size)) ** 0.5\n",
    "\n",
    "# The difference between the means divided is the standard error\n",
    "print('Standard error is {:0.2f}.'.format(diff_se))"
   ]
  },
  {
   "cell_type": "code",
   "execution_count": 6,
   "metadata": {},
   "outputs": [
    {
     "name": "stdout",
     "output_type": "stream",
     "text": [
      "Ttest_indResult(statistic=15.899697770703318, pvalue=1.0215272000734167e-36)\n"
     ]
    }
   ],
   "source": [
    "print(ttest_ind(sample2, sample1, equal_var=False))"
   ]
  },
  {
   "cell_type": "markdown",
   "metadata": {},
   "source": [
    "From thinkful: One way to interpret a t-value is as the number of standard errors worth of space separating the group means. A t-value of 2 would indicate that the means are two standard errors apart.\n",
    "\n",
    "The p-value associated with a t-test indicates the likelihood of getting a difference this large or larger in the samples if the populations were not different. The smaller the p-value, the more likely the difference we see in the samples meaningfully reflects the populations. The p-value in the test you did above is really small, so we can be fairly confident that the difference in means we see is due to a real difference in the population and not due to variability in the samples."
   ]
  },
  {
   "cell_type": "code",
   "execution_count": null,
   "metadata": {},
   "outputs": [],
   "source": []
  },
  {
   "cell_type": "code",
   "execution_count": 7,
   "metadata": {},
   "outputs": [
    {
     "data": {
      "image/png": "[encoded data removed]",
      "text/plain": [
       "<Figure size 432x288 with 1 Axes>"
      ]
     },
     "metadata": {
      "needs_background": "light"
     },
     "output_type": "display_data"
    }
   ],
   "source": [
    "size = 20\n",
    "sample1 = np.zeros(size)\n",
    "sample2 = np.zeros(size)\n",
    "# Take a sample of 100 from each population and plot\n",
    "for index in range(0, size):\n",
    "    sample1[index] = (np.random.choice(pop1, 100, replace=True).mean())\n",
    "    sample2[index] = (np.random.choice(pop2, 100, replace=True).mean())\n",
    "\n",
    "plt.hist(sample1, alpha=0.5, label='Population 1', linewidth=1, edgecolor='black')\n",
    "plt.hist(sample2, alpha=0.5, label='Population 2', linewidth=1, edgecolor='black')\n",
    "plt.xlabel('Number of Successes')\n",
    "\n",
    "norm1 = np.random.normal(2, 1.5)\n",
    "plt.legend(loc='upper right')\n",
    "plt.show()\n"
   ]
  },
  {
   "cell_type": "code",
   "execution_count": 8,
   "metadata": {},
   "outputs": [
    {
     "name": "stdout",
     "output_type": "stream",
     "text": [
      "Sample 1 mean is 1.95\n",
      "Sample 2 mean is 5.00\n",
      "Sample 1 std is 0.11\n",
      "Sample 2 std is 0.15\n"
     ]
    }
   ],
   "source": [
    "# Compute means and std for each group\n",
    "\n",
    "print('Sample 1 mean is {:.02f}'.format(sample1.mean()))\n",
    "print('Sample 2 mean is {:.02f}'.format(sample2.mean()))\n",
    "print('Sample 1 std is {:.02f}'.format(sample1.std()))\n",
    "print('Sample 2 std is {:.02f}'.format(sample2.std()))"
   ]
  },
  {
   "cell_type": "markdown",
   "metadata": {},
   "source": []
  }
 ],
 "metadata": {
  "kernelspec": {
   "display_name": "Python 3",
   "language": "python",
   "name": "python3"
  },
  "language_info": {
   "codemirror_mode": {
    "name": "ipython",
    "version": 3
   },
   "file_extension": ".py",
   "mimetype": "text/x-python",
   "name": "python",
   "nbconvert_exporter": "python",
   "pygments_lexer": "ipython3",
   "version": "3.7.0"
  }
 },
 "nbformat": 4,
 "nbformat_minor": 2
}
